{
  "cells": [
    {
      "cell_type": "markdown",
      "metadata": {},
      "source": [
        "---\n",
        "title: \"Palmers Penguin EDA with Python\"\n",
        "subtitle: \"Artwork by @allison_horst\"\n",
        "date: \"2024-12-06\"\n",
        "categories: [Python, exploratory data analysis]\n",
        "code-fold: false\n",
        "code-copy: hover\n",
        "jupyter: python3\n",
        "code-summary: \"Show the code\"\n",
        "image: image.png\n",
        "footertext: Image from freepik.com\n",
        "---\n",
        "\n",
        "\n",
        "## Introduction\n",
        " Python is referred to as an easy and beginner friendly language, and that is in some ways true. Python is not my first language, R is, and I have been using it for a while now, but about time I add another language to my arsenal. It's been 3 months since I picked up Python as the next language, and I think a project is about due. My method of learning has most been reading text books, all not covered but more than 50% - 80% of the books covered. The books read are:\n",
        "\n",
        "- [Python for Data Analysis 3e](https://wesmckinney.com/book/) by the creator of the pandas package, [Wes Mckinney](https://wesmckinney.com/), and\n",
        "\n",
        "- [Python Data Science Handbook 2E](https://jakevdp.github.io/PythonDataScienceHandbook/) by (Jake VanderPlas)[http://vanderplas.com/].\n",
        "\n",
        "## The Project\n",
        "My first project would be an exploratory data analysis project performed on the Palmer penguins data. The goal of this blog post is to document just how well I have grown within the last 3 months. Without think much about it I prompted chatGPT to generate some EDA questions on the Palmer Penguins data. \n",
        "\n",
        "### Questions Generated\n",
        "The questions generated is below:\n",
        "\n",
        "- How many missing values are there in the dataset, and in which columns?\n",
        "- What is the average body mass of penguins for each species?\n",
        "- Are there any differences in bill length among the three islands in the dataset?\n",
        "- What is the distribution of flipper length for each penguin species?\n",
        "- Is there any relationship between bill length and bill depth?\n",
        "- How does the average body mass compare between male and female penguins and its weight for each sex across the species?\n",
        "- What is the proportion of penguin species found on each island?\n",
        "- How does flipper length vary across the different species and islands?\n",
        "- What are the maximum and minimum body masses recorded in the dataset?\n",
        "- Are there any outliers in the bill length measurements for each species?\n",
        "\n",
        "\n",
        "### Prep\n",
        "Firstly, I imported the necessary packages that will be used for this project. Oh, you'll need to install the packages first if not installed. Use `!pip install <package_name>`\n"
      ],
      "id": "c8888cc7"
    },
    {
      "cell_type": "code",
      "metadata": {},
      "source": [
        "# Import library -----------------------------\n",
        "import pandas as pd\n",
        "import numpy as np\n",
        "import matplotlib.pyplot as plt\n",
        "import seaborn as sns"
      ],
      "id": "47f59429",
      "execution_count": null,
      "outputs": []
    },
    {
      "cell_type": "markdown",
      "metadata": {},
      "source": [
        "Next, I set the themes for graphs."
      ],
      "id": "f1a924b6"
    },
    {
      "cell_type": "code",
      "metadata": {},
      "source": [
        "## Set style and themes for plots ---------------------\n",
        "sns.set_style(\"whitegrid\")\n",
        "plt.style.use(\"tableau-colorblind10\")"
      ],
      "id": "d39caefc",
      "execution_count": null,
      "outputs": []
    },
    {
      "cell_type": "markdown",
      "metadata": {},
      "source": [
        "## Solution\n",
        "To begin we import the data and get a quick preview"
      ],
      "id": "eb85b174"
    },
    {
      "cell_type": "code",
      "metadata": {},
      "source": [
        "# Import data --------------------------------\n",
        "penguins = pd.read_csv(\"penguins.csv\")\n",
        "penguins.head()"
      ],
      "id": "2b7cd414",
      "execution_count": null,
      "outputs": []
    },
    {
      "cell_type": "markdown",
      "metadata": {},
      "source": [
        "Since the data is imported, I will proceed with answering the questions. Some questions will be answered with graphs, while others may have tables as their result output.\n",
        "\n",
        "1. How many missing values are there in the dataset, and in which columns?\n"
      ],
      "id": "c1756356"
    },
    {
      "cell_type": "code",
      "metadata": {},
      "source": [
        "# Find and Remove missing data\n",
        "penguins.isna().sum()"
      ],
      "id": "87d1c99f",
      "execution_count": null,
      "outputs": []
    },
    {
      "cell_type": "code",
      "metadata": {},
      "source": [
        "## Rows with one or more missing data\n",
        "\n",
        "print(f\" The total number of missing observation is: {len(penguins.loc[penguins.isna().any(axis=1)])}\")"
      ],
      "id": "2b408a25",
      "execution_count": null,
      "outputs": []
    },
    {
      "cell_type": "markdown",
      "metadata": {},
      "source": [
        "The observations with the missing data is given below:"
      ],
      "id": "ddb2582c"
    },
    {
      "cell_type": "code",
      "metadata": {},
      "source": [
        "penguins[penguins.isna().any(axis=1)]"
      ],
      "id": "adf8895e",
      "execution_count": null,
      "outputs": []
    },
    {
      "cell_type": "markdown",
      "metadata": {},
      "source": [
        "Before proceeding with to the next question, I will remove observations with missing data. I thing we can do without 11 observations.\n"
      ],
      "id": "669dfd29"
    },
    {
      "cell_type": "code",
      "metadata": {},
      "source": [
        "penguins_cleaned = penguins.dropna()\n",
        "\n",
        "penguins_cleaned.isna().sum() # rows with NAs removed"
      ],
      "id": "f0bca059",
      "execution_count": null,
      "outputs": []
    },
    {
      "cell_type": "markdown",
      "metadata": {},
      "source": [
        "2. What is the average body mass of penguins for each species?\n"
      ],
      "id": "32899996"
    },
    {
      "cell_type": "code",
      "metadata": {},
      "source": [
        "## Average Body Mass for Each Species\n",
        "penguins_cleaned.groupby(\"species\").agg(\n",
        "    mean_weight = pd.NamedAgg(column=\"body_mass_g\", aggfunc=\"mean\")\n",
        ")"
      ],
      "id": "8a0b7060",
      "execution_count": null,
      "outputs": []
    },
    {
      "cell_type": "markdown",
      "metadata": {},
      "source": [
        "3. Are there any differences in bill length among the three islands in the dataset?\n"
      ],
      "id": "6b621ac4"
    },
    {
      "cell_type": "code",
      "metadata": {},
      "source": [
        "penguins_cleaned.groupby(\"island\").agg(\n",
        "  mean_bill_length = pd.NamedAgg(column=\"bill_length_mm\", aggfunc=\"mean\")\n",
        ").round(2)"
      ],
      "id": "43daf5da",
      "execution_count": null,
      "outputs": []
    },
    {
      "cell_type": "markdown",
      "metadata": {},
      "source": [
        "4. What is the distribution of flipper length for each penguin species?\n"
      ],
      "id": "56c4a222"
    },
    {
      "cell_type": "code",
      "metadata": {},
      "source": [
        "#| fig-align: center\n",
        "\n",
        "adelie_species = penguins_cleaned[penguins_cleaned.species == \"Adelie\"]\n",
        "gentoo_species = penguins_cleaned[penguins_cleaned.species == \"Gentoo\"]\n",
        "chinstrap_species = penguins_cleaned[penguins_cleaned.species == \"Chinstrap\"]\n",
        "\n",
        "plt.figure()\n",
        "plt.hist(adelie_species.flipper_length_mm, label=\"Adelie\")\n",
        "plt.hist(gentoo_species.flipper_length_mm, label=\"Gentoo\")\n",
        "plt.hist(chinstrap_species.flipper_length_mm, label=\"Chinstrap\")\n",
        "plt.title(\n",
        "    \"Distribution of Flipper Length for the Three Penguin Species\", \n",
        "    size=13, loc=\"left\", fontweight=\"bold\"\n",
        ")\n",
        "plt.xlabel(\"Flipper Length ($mm$)\", size=9, fontweight=\"bold\", loc=\"right\")\n",
        "plt.ylabel(\"Count\", size=9, weight=\"bold\", loc=\"top\")\n",
        "plt.legend()"
      ],
      "id": "b5647885",
      "execution_count": null,
      "outputs": []
    },
    {
      "cell_type": "markdown",
      "metadata": {},
      "source": [
        "5. Is there any relationship between bill length and bill depth?\n"
      ],
      "id": "8a9de09f"
    },
    {
      "cell_type": "code",
      "metadata": {},
      "source": [
        "#| fig-align: center\n",
        "\n",
        "plt.figure()\n",
        "sns.scatterplot(\n",
        "    x=\"bill_length_mm\",\n",
        "    y=\"bill_depth_mm\",\n",
        "    data=penguins_cleaned,\n",
        "    hue=\"species\",  \n",
        ")\n",
        "plt.title(\"Relationship between Bill length($mm$) and Bill depth($mm$)\", size=13, weight=\"bold\")\n",
        "plt.xlabel(\"Bill length ($mm$)\", size=9)\n",
        "plt.ylabel(\"Bill depth ($mm$)\", size=9)"
      ],
      "id": "fe1d9e90",
      "execution_count": null,
      "outputs": []
    },
    {
      "cell_type": "markdown",
      "metadata": {},
      "source": [
        "Alternatively I can fit a linear regression line for each species to investigate the relationship between bill length and depth.\n"
      ],
      "id": "7170ee4e"
    },
    {
      "cell_type": "code",
      "metadata": {},
      "source": [
        "rel_plt = sns.lmplot(\n",
        "    x=\"bill_length_mm\",\n",
        "    y=\"bill_depth_mm\",\n",
        "    data=penguins_cleaned,\n",
        "    hue=\"species\",\n",
        "    markers=[\"+\", \"o\", \"p\"]\n",
        ")\n",
        "plt.tight_layout()\n",
        "sns.move_legend(\n",
        "    rel_plt,\n",
        "    \"upper right\",\n",
        "    frameon=True\n",
        ")\n",
        "plt.title(\"Relationship between Bill length($mm$) and Bill depth($mm$)\", size=13, weight=\"bold\")\n",
        "plt.xlabel(\"Bill length ($mm$)\", size=9)\n",
        "plt.ylabel(\"Bill depth ($mm$)\", size=9)"
      ],
      "id": "1d58c5fc",
      "execution_count": null,
      "outputs": []
    },
    {
      "cell_type": "markdown",
      "metadata": {},
      "source": [
        "6. How does the average body mass compare between male and female penguins and its weight for each sex across the species?"
      ],
      "id": "b0558ad8"
    },
    {
      "cell_type": "code",
      "metadata": {},
      "source": [
        "penguins_cleaned.groupby(\"sex\").agg(\n",
        "    mean_weight = pd.NamedAgg(column=\"body_mass_g\", aggfunc=\"mean\")\n",
        ").round(2)"
      ],
      "id": "11e114dc",
      "execution_count": null,
      "outputs": []
    },
    {
      "cell_type": "markdown",
      "metadata": {},
      "source": [
        "Comparison of penguins weight according to sex across penguins species"
      ],
      "id": "bef100cb"
    },
    {
      "cell_type": "code",
      "metadata": {},
      "source": [
        "plt_dt = penguins_cleaned.groupby([\"sex\", \"species\"])[\"body_mass_g\"].agg(\"mean\")\n",
        "\n",
        "plt_dt = plt_dt.reset_index()\n",
        "plt_dt"
      ],
      "id": "135178e6",
      "execution_count": null,
      "outputs": []
    },
    {
      "cell_type": "markdown",
      "metadata": {},
      "source": [
        "7. What is the proportion of penguin species found on each island?\n"
      ],
      "id": "9ae77817"
    },
    {
      "cell_type": "code",
      "metadata": {},
      "source": [
        "# Proportion of penguin species found on each island?\n",
        "\n",
        "penguins_cleaned.value_counts(\n",
        "    subset=[\"island\",\"species\"],\n",
        "     normalize=True, sort=False\n",
        "     ).round(2).reset_index()"
      ],
      "id": "4acb0b8e",
      "execution_count": null,
      "outputs": []
    },
    {
      "cell_type": "markdown",
      "metadata": {},
      "source": [
        "8. How does flipper length vary across the different species and islands?\n"
      ],
      "id": "6b15c6d4"
    },
    {
      "cell_type": "code",
      "metadata": {},
      "source": [
        "#| fig-align: center\n",
        "\n",
        "# How does flipper length vary across the different species and islands?\n",
        "\n",
        "plt.figure()\n",
        "sns.boxplot(\n",
        "    x=\"island\",\n",
        "    y=\"flipper_length_mm\",\n",
        "    hue=\"species\",\n",
        "    data=penguins_cleaned\n",
        ")\n",
        "plt.xlabel(\"Island\", loc=\"right\", size=9, weight=900, style=\"italic\")\n",
        "plt.ylabel(\"Flipper Length ($mm$)\",size=9, loc=\"top\", style=\"italic\", weight=900)\n",
        "plt.title(\n",
        "    \"Distribution of Flipper Length ($mm$), Penguins Species Across Different Islands\",\n",
        "    weight=\"heavy\", size=14\n",
        ")"
      ],
      "id": "ea29146d",
      "execution_count": null,
      "outputs": []
    },
    {
      "cell_type": "markdown",
      "metadata": {},
      "source": [
        "9. What are the maximum and minimum body masses recorded in the dataset?\n"
      ],
      "id": "d9b808ed"
    },
    {
      "cell_type": "code",
      "metadata": {},
      "source": [
        "# Find max and min body_mass\n",
        "## max\n",
        "penguins_cleaned[penguins_cleaned.body_mass_g == penguins_cleaned.body_mass_g.max()]"
      ],
      "id": "a181b9c5",
      "execution_count": null,
      "outputs": []
    },
    {
      "cell_type": "code",
      "metadata": {},
      "source": [
        "penguins_cleaned.body_mass_g.max()"
      ],
      "id": "eea41ae4",
      "execution_count": null,
      "outputs": []
    },
    {
      "cell_type": "code",
      "metadata": {},
      "source": [
        "## min\n",
        "penguins_cleaned[penguins_cleaned.body_mass_g == penguins_cleaned.body_mass_g.min()]"
      ],
      "id": "155e37e8",
      "execution_count": null,
      "outputs": []
    },
    {
      "cell_type": "code",
      "metadata": {},
      "source": [
        "penguins_cleaned.body_mass_g.min()"
      ],
      "id": "e252623b",
      "execution_count": null,
      "outputs": []
    },
    {
      "cell_type": "markdown",
      "metadata": {},
      "source": [
        "10. Are there any outliers in the bill length measurements for each species?\n"
      ],
      "id": "0d5d02f6"
    },
    {
      "cell_type": "code",
      "metadata": {},
      "source": [
        "#| fig-align: center\n",
        "\n",
        "sns.boxplot(\n",
        "    x=\"bill_length_mm\",\n",
        "    y=\"species\",\n",
        "    data=penguins_cleaned,\n",
        "    hue=\"species\"\n",
        ")\n",
        "plt.xlabel(\"Bill Length ($mm$)\", weight=\"bold\", size=9, loc=\"right\")\n",
        "plt.ylabel(\"Species\", weight=\"bold\", size=9, loc=\"top\")\n",
        "plt.title(\"Distribution of Bill Length According to Species\", size=14, weight=\"bold\")"
      ],
      "id": "398ab35c",
      "execution_count": null,
      "outputs": []
    },
    {
      "cell_type": "markdown",
      "metadata": {},
      "source": [
        "## Conclusion\n",
        "This was a wrap and I think its a good start to getting familiar with python. In this project, the following have been done, data aggregation, handling missing data, and visualization. \n"
      ],
      "id": "a40ca0a9"
    }
  ],
  "metadata": {
    "kernelspec": {
      "display_name": "Python 3",
      "language": "python",
      "name": "python3"
    }
  },
  "nbformat": 4,
  "nbformat_minor": 5
}